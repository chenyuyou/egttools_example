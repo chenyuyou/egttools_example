{
 "cells": [
  {
   "cell_type": "code",
   "execution_count": 4,
   "id": "d4468f25-9467-456e-bb11-0d05b25f0dbc",
   "metadata": {},
   "outputs": [],
   "source": [
    "from egttools.games import AbstractNPlayerGame\n",
    "from egttools import sample_simplex\n",
    "from typing import Union, List\n",
    "import numpy as np\n",
    "\n",
    "class NPlayerStagHunt(AbstractNPlayerGame):\n",
    "\n",
    "    def __init__(self, group_size, enhancement_factor, cooperation_threshold, cost):\n",
    "        self.group_size_ = group_size  # N\n",
    "        self.enhancement_factor_ = enhancement_factor  # F\n",
    "        self.cooperation_threshold_ = cooperation_threshold  # M\n",
    "        self.cost_ = cost  # c\n",
    "        self.strategies = ['Defect', 'Cooperate']\n",
    "\n",
    "        self.nb_strategies_ = 2\n",
    "        super().__init__(self.nb_strategies_, self.group_size_)\n",
    "\n",
    "    def play(self, group_composition: Union[List[int], np.ndarray], game_payoffs: np.ndarray) -> None:\n",
    "        if group_composition[0] == 0:\n",
    "            game_payoffs[0] = 0\n",
    "            game_payoffs[1] = self.cost_ * (self.enhancement_factor_ - 1)\n",
    "        elif group_composition[1] == 0:\n",
    "            game_payoffs[0] = 0\n",
    "            game_payoffs[1] = 0\n",
    "        else:\n",
    "            game_payoffs[0] = ((group_composition[1]\n",
    "                                * self.enhancement_factor_)\n",
    "                               / self.group_size_) if group_composition[\n",
    "                                                          1] >= self.cooperation_threshold_ else 0  # Defectors\n",
    "            game_payoffs[1] = game_payoffs[0] - self.cost_  # Cooperators\n",
    "\n",
    "    def calculate_payoffs(self) -> np.ndarray:\n",
    "        payoffs_container = np.zeros(shape=(self.nb_strategies_,), dtype=np.float64)\n",
    "        for i in range(self.nb_group_configurations_):\n",
    "            # Get group composition\n",
    "            group_composition = sample_simplex(i, self.group_size_, self.nb_strategies_)\n",
    "            self.play(group_composition, payoffs_container)\n",
    "            for strategy_index, strategy_payoff in enumerate(payoffs_container):\n",
    "                self.payoffs_[strategy_index, i] = strategy_payoff\n",
    "            # Reinitialize payoff vector\n",
    "            payoffs_container[:] = 0\n",
    "\n",
    "        return self.payoffs_"
   ]
  },
  {
   "cell_type": "code",
   "execution_count": null,
   "id": "d5784bcc-e9f6-4ced-a506-dc0001fa8a5b",
   "metadata": {},
   "outputs": [],
   "source": []
  }
 ],
 "metadata": {
  "kernelspec": {
   "display_name": "Python 3 (ipykernel)",
   "language": "python",
   "name": "python3"
  },
  "language_info": {
   "codemirror_mode": {
    "name": "ipython",
    "version": 3
   },
   "file_extension": ".py",
   "mimetype": "text/x-python",
   "name": "python",
   "nbconvert_exporter": "python",
   "pygments_lexer": "ipython3",
   "version": "3.12.3"
  }
 },
 "nbformat": 4,
 "nbformat_minor": 5
}
